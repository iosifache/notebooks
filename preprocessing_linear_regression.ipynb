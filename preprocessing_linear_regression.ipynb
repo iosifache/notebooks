{
 "metadata": {
  "language_info": {
   "codemirror_mode": {
    "name": "ipython",
    "version": 3
   },
   "file_extension": ".py",
   "mimetype": "text/x-python",
   "name": "python",
   "nbconvert_exporter": "python",
   "pygments_lexer": "ipython3",
   "version": "3.8.5-final"
  },
  "orig_nbformat": 2,
  "kernelspec": {
   "name": "python38564bitenvironment981ebd50e9194688acfc827cb2536d6d",
   "display_name": "Python 3.8.5 64-bit ('environment')"
  }
 },
 "nbformat": 4,
 "nbformat_minor": 2,
 "cells": [
  {
   "source": [
    "# Preprocessing. `sklearn` Pipeline"
   ],
   "cell_type": "markdown",
   "metadata": {}
  },
  {
   "source": [
    "## Libraries Import"
   ],
   "cell_type": "markdown",
   "metadata": {}
  },
  {
   "cell_type": "code",
   "execution_count": 1,
   "metadata": {},
   "outputs": [],
   "source": [
    "import math\n",
    "\n",
    "import pandas as pd\n",
    "import numpy as np\n",
    "from sklearn.base import TransformerMixin, BaseEstimator\n",
    "from sklearn.compose import ColumnTransformer\n",
    "from sklearn.impute import SimpleImputer\n",
    "from sklearn.linear_model import LinearRegression\n",
    "from sklearn.pipeline import Pipeline\n",
    "from sklearn.preprocessing import StandardScaler, LabelBinarizer\n",
    "from sklearn.metrics import mean_squared_error\n",
    "from sklearn.model_selection import train_test_split"
   ]
  },
  {
   "source": [
    "## Configuration"
   ],
   "cell_type": "markdown",
   "metadata": {}
  },
  {
   "cell_type": "code",
   "execution_count": 2,
   "metadata": {},
   "outputs": [],
   "source": [
    "DATASET_FILENAME = \"datasets/housing.csv\"\n",
    "TRAIN_SPLIT_RATE = 0.8"
   ]
  },
  {
   "source": [
    "## Imputation of Missing Values"
   ],
   "cell_type": "markdown",
   "metadata": {}
  },
  {
   "cell_type": "code",
   "execution_count": 3,
   "metadata": {},
   "outputs": [],
   "source": [
    "housing_df = pd.read_csv(DATASET_FILENAME)"
   ]
  },
  {
   "cell_type": "code",
   "execution_count": 4,
   "metadata": {},
   "outputs": [
    {
     "output_type": "stream",
     "name": "stdout",
     "text": [
      "The missing values are:\n\nlongitude               0\nlatitude                0\nhousing_median_age      0\ntotal_rooms             0\ntotal_bedrooms        207\npopulation              0\nhouseholds              0\nmedian_income           0\nmedian_house_value      0\nocean_proximity         0\ndtype: int64\n"
     ]
    }
   ],
   "source": [
    "print(\"The missing values are:\\n\\n{}\".format(housing_df.isnull().sum()))"
   ]
  },
  {
   "cell_type": "code",
   "execution_count": 5,
   "metadata": {},
   "outputs": [],
   "source": [
    "total_bedrooms_median = housing_df[\"total_bedrooms\"].median()\n",
    "housing_df[\"total_bedrooms\"].fillna(total_bedrooms_median, inplace=True)"
   ]
  },
  {
   "source": [
    "## Creation of New Features"
   ],
   "cell_type": "markdown",
   "metadata": {}
  },
  {
   "cell_type": "code",
   "execution_count": 6,
   "metadata": {},
   "outputs": [],
   "source": [
    "housing_df[\"total_rooms_per_housefolds\"] = housing_df[\"total_rooms\"] / housing_df[\"households\"]\n",
    "housing_df[\"total_bedrooms_per_total_rooms\"] = housing_df[\"total_bedrooms\"] / housing_df[\"total_rooms\"]\n",
    "housing_df[\"population_per_households\"] = housing_df[\"population\"] / housing_df[\"households\"]"
   ]
  },
  {
   "cell_type": "code",
   "execution_count": 7,
   "metadata": {},
   "outputs": [
    {
     "output_type": "stream",
     "name": "stdout",
     "text": [
      "The correlation table is:\n\n                                longitude  latitude  housing_median_age  \\\nlongitude                        1.000000 -0.924664           -0.108197   \nlatitude                        -0.924664  1.000000            0.011173   \nhousing_median_age              -0.108197  0.011173            1.000000   \ntotal_rooms                      0.044568 -0.036100           -0.361262   \ntotal_bedrooms                   0.069120 -0.066484           -0.319026   \npopulation                       0.099773 -0.108785           -0.296244   \nhouseholds                       0.055310 -0.071035           -0.302916   \nmedian_income                   -0.015176 -0.079809           -0.119034   \nmedian_house_value              -0.045967 -0.144160            0.105623   \ntotal_rooms_per_housefolds      -0.027540  0.106389           -0.153277   \ntotal_bedrooms_per_total_rooms   0.081205 -0.098619            0.135622   \npopulation_per_households        0.002476  0.002366            0.013191   \n\n                                total_rooms  total_bedrooms  population  \\\nlongitude                          0.044568        0.069120    0.099773   \nlatitude                          -0.036100       -0.066484   -0.108785   \nhousing_median_age                -0.361262       -0.319026   -0.296244   \ntotal_rooms                        1.000000        0.927058    0.857126   \ntotal_bedrooms                     0.927058        1.000000    0.873535   \npopulation                         0.857126        0.873535    1.000000   \nhouseholds                         0.918484        0.974366    0.907222   \nmedian_income                      0.198050       -0.007617    0.004834   \nmedian_house_value                 0.134153        0.049457   -0.024650   \ntotal_rooms_per_housefolds         0.133798        0.001765   -0.072213   \ntotal_bedrooms_per_total_rooms    -0.187381        0.071649    0.010035   \npopulation_per_households         -0.024581       -0.028325    0.069863   \n\n                                households  median_income  median_house_value  \\\nlongitude                         0.055310      -0.015176           -0.045967   \nlatitude                         -0.071035      -0.079809           -0.144160   \nhousing_median_age               -0.302916      -0.119034            0.105623   \ntotal_rooms                       0.918484       0.198050            0.134153   \ntotal_bedrooms                    0.974366      -0.007617            0.049457   \npopulation                        0.907222       0.004834           -0.024650   \nhouseholds                        1.000000       0.013033            0.065843   \nmedian_income                     0.013033       1.000000            0.688075   \nmedian_house_value                0.065843       0.688075            1.000000   \ntotal_rooms_per_housefolds       -0.080598       0.326895            0.151948   \ntotal_bedrooms_per_total_rooms    0.034498      -0.545298           -0.233303   \npopulation_per_households        -0.027309       0.018766           -0.023737   \n\n                                total_rooms_per_housefolds  \\\nlongitude                                        -0.027540   \nlatitude                                          0.106389   \nhousing_median_age                               -0.153277   \ntotal_rooms                                       0.133798   \ntotal_bedrooms                                    0.001765   \npopulation                                       -0.072213   \nhouseholds                                       -0.080598   \nmedian_income                                     0.326895   \nmedian_house_value                                0.151948   \ntotal_rooms_per_housefolds                        1.000000   \ntotal_bedrooms_per_total_rooms                   -0.370308   \npopulation_per_households                        -0.004852   \n\n                                total_bedrooms_per_total_rooms  \\\nlongitude                                             0.081205   \nlatitude                                             -0.098619   \nhousing_median_age                                    0.135622   \ntotal_rooms                                          -0.187381   \ntotal_bedrooms                                        0.071649   \npopulation                                            0.010035   \nhouseholds                                            0.034498   \nmedian_income                                        -0.545298   \nmedian_house_value                                   -0.233303   \ntotal_rooms_per_housefolds                           -0.370308   \ntotal_bedrooms_per_total_rooms                        1.000000   \npopulation_per_households                             0.002601   \n\n                                population_per_households  \nlongitude                                        0.002476  \nlatitude                                         0.002366  \nhousing_median_age                               0.013191  \ntotal_rooms                                     -0.024581  \ntotal_bedrooms                                  -0.028325  \npopulation                                       0.069863  \nhouseholds                                      -0.027309  \nmedian_income                                    0.018766  \nmedian_house_value                              -0.023737  \ntotal_rooms_per_housefolds                      -0.004852  \ntotal_bedrooms_per_total_rooms                   0.002601  \npopulation_per_households                        1.000000  \n"
     ]
    }
   ],
   "source": [
    "correlation_df = housing_df.corr()\n",
    "print(\"The correlation table is:\\n\\n{}\".format(correlation_df))"
   ]
  },
  {
   "cell_type": "code",
   "execution_count": 8,
   "metadata": {},
   "outputs": [
    {
     "output_type": "stream",
     "name": "stdout",
     "text": [
      "The correlations between the target feature and the others are:\n\nmedian_house_value                1.000000\nmedian_income                     0.688075\ntotal_bedrooms_per_total_rooms   -0.233303\ntotal_rooms_per_housefolds        0.151948\nlatitude                         -0.144160\ntotal_rooms                       0.134153\nhousing_median_age                0.105623\nhouseholds                        0.065843\ntotal_bedrooms                    0.049457\nlongitude                        -0.045967\npopulation                       -0.024650\npopulation_per_households        -0.023737\nName: median_house_value, dtype: float64\n"
     ]
    }
   ],
   "source": [
    "house_value_corr_df = correlation_df[\"median_house_value\"].sort_values(ascending=False, key=abs)\n",
    "print(\"The correlations between the target feature and the others are:\\n\\n{}\".format(house_value_corr_df))"
   ]
  },
  {
   "source": [
    "## Pipeline Creation for Further Preprocessing and Model Training"
   ],
   "cell_type": "markdown",
   "metadata": {}
  },
  {
   "cell_type": "code",
   "execution_count": 9,
   "metadata": {},
   "outputs": [],
   "source": [
    "median_house_value_df = housing_df[\"median_house_value\"]\n",
    "housing_df.drop(columns=[\"median_house_value\"], inplace=True)"
   ]
  },
  {
   "cell_type": "code",
   "execution_count": 10,
   "metadata": {},
   "outputs": [],
   "source": [
    "class FixedLabelBinarizer(BaseEstimator, TransformerMixin):\n",
    "    def __init__(self, sparse_output=False):\n",
    "        self.sparse_output = sparse_output\n",
    "\n",
    "    def fit(self, X, y=None):\n",
    "        return self\n",
    "\n",
    "    def transform(self, X, y=None):\n",
    "        encoder = LabelBinarizer(sparse_output=self.sparse_output)\n",
    "\n",
    "        return encoder.fit_transform(X)"
   ]
  },
  {
   "cell_type": "code",
   "execution_count": 11,
   "metadata": {},
   "outputs": [],
   "source": [
    "numeric_features = housing_df.select_dtypes(include=[\"int64\", \"float64\"]).columns\n",
    "\n",
    "preprocessor = ColumnTransformer(\n",
    "    transformers=[\n",
    "        (\"ocean_proximity_encoder\", FixedLabelBinarizer(), \"ocean_proximity\"),\n",
    "        (\"numeric_scalar\", StandardScaler(), numeric_features),\n",
    "    ],\n",
    "    remainder =\"passthrough\"\n",
    ")\n",
    "regressor = Pipeline(steps=[\n",
    "    (\"preprocessor\", preprocessor),\n",
    "    (\"regressor\", LinearRegression())\n",
    "])"
   ]
  },
  {
   "cell_type": "code",
   "execution_count": 12,
   "metadata": {},
   "outputs": [],
   "source": [
    "X = housing_df\n",
    "y = median_house_value_df\n",
    "\n",
    "X_train, X_test, y_train, y_test = train_test_split(X, y, test_size=TRAIN_SPLIT_RATE)"
   ]
  },
  {
   "cell_type": "code",
   "execution_count": 13,
   "metadata": {},
   "outputs": [
    {
     "output_type": "execute_result",
     "data": {
      "text/plain": [
       "Pipeline(steps=[('preprocessor',\n",
       "                 ColumnTransformer(remainder='passthrough',\n",
       "                                   transformers=[('ocean_proximity_encoder',\n",
       "                                                  FixedLabelBinarizer(),\n",
       "                                                  'ocean_proximity'),\n",
       "                                                 ('numeric_scalar',\n",
       "                                                  StandardScaler(),\n",
       "                                                  Index(['longitude', 'latitude', 'housing_median_age', 'total_rooms',\n",
       "       'total_bedrooms', 'population', 'households', 'median_income',\n",
       "       'total_rooms_per_housefolds', 'total_bedrooms_per_total_rooms',\n",
       "       'population_per_households'],\n",
       "      dtype='object'))])),\n",
       "                ('regressor', LinearRegression())])"
      ]
     },
     "metadata": {},
     "execution_count": 13
    }
   ],
   "source": [
    "regressor.fit(X_train, y_train)"
   ]
  },
  {
   "cell_type": "code",
   "execution_count": 14,
   "metadata": {},
   "outputs": [
    {
     "output_type": "stream",
     "name": "stdout",
     "text": [
      "The RMSE of the trained model is 201025.95891424106.\n"
     ]
    }
   ],
   "source": [
    "y_pred = regressor.predict(X_test)\n",
    "rmse = math.sqrt(mean_squared_error(y_test, y_pred))\n",
    "print(\"The RMSE of the trained model is {}.\".format(rmse))"
   ]
  }
 ]
}